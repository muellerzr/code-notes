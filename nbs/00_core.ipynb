{
 "cells": [
  {
   "cell_type": "code",
   "execution_count": 1,
   "id": "b07a18bc-202f-45fb-a1ce-c55b3bc89679",
   "metadata": {},
   "outputs": [],
   "source": [
    "#| export parse"
   ]
  },
  {
   "cell_type": "markdown",
   "id": "9fab59b1-db1c-4e14-9b0d-04c6a2692efc",
   "metadata": {},
   "source": [
    "# Exporting notes to parsed HTML\n",
    "> Taking a -> b"
   ]
  },
  {
   "cell_type": "markdown",
   "id": "c9221a88-4ee4-460d-93eb-70b29a52d110",
   "metadata": {},
   "source": [
    "How it should work:\n",
    "\n",
    "1. Parse notebook forwards\n",
    "2. Find 1st and 2nd code cells\n",
    "3. Check if `#|explain` is in between them\n",
    "4. Gather all `#|explain`\n",
    "5. for each `#|explain` extract the starting and ending lines of code from the above code cell, and create a dictionary of code -> explaination\n",
    "6. Create a tabset cell based on the explaination that copies the code and highlights lines of it with explainations below -- mimic what currently exists. Maybe throw them in as captions under the code?"
   ]
  },
  {
   "cell_type": "markdown",
   "id": "b307e67d-8d36-429d-b40f-d301919fd0bc",
   "metadata": {},
   "source": [
    "::: {.panel-tabset}\n",
    "\n",
    "## Code"
   ]
  },
  {
   "cell_type": "code",
   "execution_count": null,
   "id": "8f619fa8-182c-4197-89a1-84e3ca8faab5",
   "metadata": {},
   "outputs": [],
   "source": [
    "def log_softmax(x):\n",
    "    return (x.exp() / \n",
    "            (x.exp().sum(-1, keepdim=True))\n",
    "           ).log()"
   ]
  },
  {
   "cell_type": "markdown",
   "id": "600ec7e0-6e94-4a63-b1b4-4de9bfb4ac35",
   "metadata": {
    "tags": []
   },
   "source": [
    "## Code + Explaination"
   ]
  },
  {
   "cell_type": "code",
   "execution_count": 1,
   "id": "adc73fd0-26ea-484b-9bf8-eab02ff7d956",
   "metadata": {},
   "outputs": [],
   "source": [
    "def log_softmax(x):\n",
    "    return (x.exp() / \n",
    "            (x.exp().sum(-1, keepdim=True))\n",
    "           ).log()"
   ]
  },
  {
   "cell_type": "markdown",
   "id": "c1eba6b2-f4b1-431f-9cc8-044c8823f95e",
   "metadata": {},
   "source": [
    "```{python}\n",
    "log_softmax\n",
    "```\n",
    "\n",
    "Log softmax is simply taking the exponential of x, dividing it by the sum of all the exponentials, and then taking the log of that result"
   ]
  },
  {
   "cell_type": "markdown",
   "id": "817ba697-81c3-4a32-a768-23ba6e4c41e8",
   "metadata": {},
   "source": [
    "```{python}\n",
    ".log()\n",
    "```\n",
    "\n",
    "We take the log because negative log likelihood expects a log, not a negative"
   ]
  },
  {
   "cell_type": "markdown",
   "id": "5e528a1a-863e-406d-8b75-10ccc0d85615",
   "metadata": {},
   "source": [
    ":::"
   ]
  },
  {
   "cell_type": "code",
   "execution_count": null,
   "id": "ec037f22-09c4-44ef-a1dc-ee3c4709385e",
   "metadata": {},
   "outputs": [],
   "source": []
  }
 ],
 "metadata": {
  "kernelspec": {
   "display_name": "Python 3 (ipykernel)",
   "language": "python",
   "name": "python3"
  },
  "language_info": {
   "codemirror_mode": {
    "name": "ipython",
    "version": 3
   },
   "file_extension": ".py",
   "mimetype": "text/x-python",
   "name": "python",
   "nbconvert_exporter": "python",
   "pygments_lexer": "ipython3",
   "version": "3.9.13"
  }
 },
 "nbformat": 4,
 "nbformat_minor": 5
}
