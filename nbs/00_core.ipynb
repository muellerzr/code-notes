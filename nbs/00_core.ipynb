{
 "cells": [
  {
   "cell_type": "code",
   "execution_count": 1,
   "id": "b07a18bc-202f-45fb-a1ce-c55b3bc89679",
   "metadata": {},
   "outputs": [],
   "source": [
    "#| export parse"
   ]
  },
  {
   "cell_type": "markdown",
   "id": "9fab59b1-db1c-4e14-9b0d-04c6a2692efc",
   "metadata": {},
   "source": [
    "# Exporting notes to parsed HTML\n",
    "> Taking a -> b"
   ]
  },
  {
   "cell_type": "markdown",
   "id": "c9221a88-4ee4-460d-93eb-70b29a52d110",
   "metadata": {},
   "source": [
    "How it should work:\n",
    "\n",
    "1. Parse notebook forwards\n",
    "2. Find 1st and 2nd code cells\n",
    "3. Check if `#|explain` is in between them\n",
    "4. Gather all `#|explain`\n",
    "5. for each `#|explain` extract the starting and ending lines of code from the above code cell, and create a dictionary of code -> explaination\n",
    "6. Create a tabset cell based on the explaination that copies the code and highlights lines of it with explainations below -- mimic what currently exists. Maybe throw them in as captions under the code?"
   ]
  },
  {
   "cell_type": "markdown",
   "id": "b307e67d-8d36-429d-b40f-d301919fd0bc",
   "metadata": {},
   "source": [
    "::: {.panel-tabset}\n",
    "\n",
    "## Code"
   ]
  },
  {
   "cell_type": "code",
   "execution_count": null,
   "id": "8f619fa8-182c-4197-89a1-84e3ca8faab5",
   "metadata": {},
   "outputs": [],
   "source": [
    "def log_softmax(x):\n",
    "    return (x.exp() / \n",
    "            (x.exp().sum(-1, keepdim=True))\n",
    "           ).log()"
   ]
  },
  {
   "cell_type": "markdown",
   "id": "600ec7e0-6e94-4a63-b1b4-4de9bfb4ac35",
   "metadata": {
    "tags": []
   },
   "source": [
    "## Code + Explaination"
   ]
  },
  {
   "cell_type": "code",
   "execution_count": 1,
   "id": "adc73fd0-26ea-484b-9bf8-eab02ff7d956",
   "metadata": {},
   "outputs": [],
   "source": [
    "def log_softmax(x):\n",
    "    return (x.exp() / \n",
    "            (x.exp().sum(-1, keepdim=True))\n",
    "           ).log()"
   ]
  },
  {
   "cell_type": "markdown",
   "id": "c1eba6b2-f4b1-431f-9cc8-044c8823f95e",
   "metadata": {},
   "source": [
    "```{.python}\n",
    "log_softmax\n",
    "```\n",
    "\n",
    "Log softmax is simply taking the exponential of x, dividing it by the sum of all the exponentials, and then taking the log of that result"
   ]
  },
  {
   "cell_type": "markdown",
   "id": "817ba697-81c3-4a32-a768-23ba6e4c41e8",
   "metadata": {},
   "source": [
    "```{.python}\n",
    ".log()\n",
    "```\n",
    "\n",
    "We take the log because negative log likelihood expects a log, not a negative"
   ]
  },
  {
   "cell_type": "markdown",
   "id": "5e528a1a-863e-406d-8b75-10ccc0d85615",
   "metadata": {},
   "source": [
    ":::"
   ]
  },
  {
   "cell_type": "code",
   "execution_count": 1,
   "id": "ec037f22-09c4-44ef-a1dc-ee3c4709385e",
   "metadata": {},
   "outputs": [],
   "source": [
    "#| export\n",
    "from execnb.nbio import *\n",
    "from nbdev.process import NBProcessor\n",
    "from nbdev.processors import Processor, mk_cell\n",
    "from fastcore.all import *\n",
    "import shlex"
   ]
  },
  {
   "cell_type": "code",
   "execution_count": 2,
   "id": "c798943c-6396-42f6-9ae9-dffae25831d1",
   "metadata": {},
   "outputs": [],
   "source": [
    "nb = read_nb(\"99_poc.ipynb\")"
   ]
  },
  {
   "cell_type": "code",
   "execution_count": 3,
   "id": "fb63363e-b5bd-45c3-a07b-909c3079c72e",
   "metadata": {},
   "outputs": [],
   "source": [
    "#| export\n",
    "def make_panel_tabset():\n",
    "    cells = [\n",
    "        mk_cell(\"::: {.panel-tabset}\\n\\n## Code\", cell_type=\"markdown\"),\n",
    "        # Original goes here\n",
    "        mk_cell(\"## Code + Explaination\", cell_type=\"markdown\"),\n",
    "        # All explainations go here\n",
    "        mk_cell(\":::\", cell_type=\"markdown\")\n",
    "    ]\n",
    "    return cells    "
   ]
  },
  {
   "cell_type": "code",
   "execution_count": 4,
   "id": "af159cea-442a-400f-b30e-a891b02f3b63",
   "metadata": {},
   "outputs": [],
   "source": [
    "#| export\n",
    "def convert_explanation(explanation_cell, source):\n",
    "    _py, newline = \"{.python}\", \"\\n\"\n",
    "    content = f\"```{_py}{newline}{source}{newline}```\"\n",
    "    content += f\"{newline}{explanation_cell.source}\"\n",
    "    return mk_cell(content, cell_type=\"markdown\")"
   ]
  },
  {
   "cell_type": "code",
   "execution_count": 110,
   "id": "aa687833-6cc2-4fac-9cc9-d638f935d674",
   "metadata": {},
   "outputs": [],
   "source": [
    "#| export\n",
    "def extract_code(start_code, end_code, source, instance_num, end_instance_num=0):\n",
    "    \"Finds code between start and finish potentially with instances to check\"\n",
    "    start_match = list(re.finditer(f'[ \\t]*{start_code}', source))[int(instance_num)]\n",
    "    start_char = start_match.span()[0]\n",
    "    end_match = list(re.finditer(f'[ \\t]*{end_code}', source))[int(end_instance_num)]\n",
    "    end_char = end_match.span()[1]\n",
    "    return source[start_char:end_char]"
   ]
  },
  {
   "cell_type": "code",
   "execution_count": 111,
   "id": "9e87e8c8-b558-45db-ae60-e47b47c89ff0",
   "metadata": {},
   "outputs": [],
   "source": [
    "#| export\n",
    "def parse_code(code_cell, markdown_cell):\n",
    "    \"Parses directives to extract the code needed to be highlighted\"\n",
    "    directives = markdown_cell.directives_[\"explain\"]\n",
    "    directives = shlex.split(\" \".join(directives))\n",
    "    multiline = \"multiline\" in directives\n",
    "    if multiline:\n",
    "        directives = directives[1:]\n",
    "        if len(directives) == 4:\n",
    "            start_code, start_instance_num, end_code, end_instance_num = directives\n",
    "        else:\n",
    "            (start_code, start_instance_num, end_code), (end_instance_num) = directives, 0\n",
    "        start_code, end_code = re.escape(start_code), re.escape(end_code)\n",
    "        return extract_code(start_code, end_code, code_cell.source, start_instance_num, end_instance_num)\n",
    "    else:\n",
    "        return directives[0]"
   ]
  },
  {
   "cell_type": "code",
   "execution_count": 112,
   "id": "b45003ab-4a1d-4abb-8241-0ad0f65ba03d",
   "metadata": {},
   "outputs": [],
   "source": [
    "#| export\n",
    "class NoteExportProc(Processor):\n",
    "    \"A proc that checks and reorganizes cells for documentation for proper explainations\"\n",
    "    def begin(self):\n",
    "        self.explanations = []\n",
    "        self._code = None\n",
    "        self.end_link = False\n",
    "        self.results = make_panel_tabset()\n",
    "        self._idx = None\n",
    "    \n",
    "    def cell(self, cell):\n",
    "        if cell.cell_type == \"code\":\n",
    "            if self._idx is None:\n",
    "                self._code = cell\n",
    "                self.end_link = False\n",
    "                self._idx = cell.idx_\n",
    "            else:\n",
    "                self.end_link = True\n",
    "        elif cell.cell_type == \"markdown\":\n",
    "            if self._idx is not None:\n",
    "                self.explanations.append(cell)       \n",
    "        \n",
    "        if self.end_link:\n",
    "            # Assume we have all code + explainations\n",
    "            _idx = 1\n",
    "            self.results.insert(_idx, self._code)\n",
    "            _idx += 2\n",
    "            self.nb.cells.remove(self._code)\n",
    "            self.results.insert(_idx, self._code)\n",
    "            _idx += 1\n",
    "            for explanation in self.explanations:\n",
    "                source = parse_code(self._code, explanation)\n",
    "                self.results.insert(_idx, convert_explanation(explanation, source))\n",
    "                _idx += 1\n",
    "                self.nb.cells.remove(explanation)\n",
    "            self.nb.cells = self.nb.cells[:self._idx] + self.results + self.nb.cells[self._idx:]\n",
    "            self._idx = None\n",
    "            self.end_link = False"
   ]
  },
  {
   "cell_type": "code",
   "execution_count": null,
   "id": "20ef9852-8371-4772-873e-a81e700afc32",
   "metadata": {},
   "outputs": [],
   "source": [
    "#|export\n",
    "def parse_notes():"
   ]
  }
 ],
 "metadata": {
  "kernelspec": {
   "display_name": "Python 3 (ipykernel)",
   "language": "python",
   "name": "python3"
  },
  "language_info": {
   "codemirror_mode": {
    "name": "ipython",
    "version": 3
   },
   "file_extension": ".py",
   "mimetype": "text/x-python",
   "name": "python",
   "nbconvert_exporter": "python",
   "pygments_lexer": "ipython3",
   "version": "3.9.13"
  }
 },
 "nbformat": 4,
 "nbformat_minor": 5
}
