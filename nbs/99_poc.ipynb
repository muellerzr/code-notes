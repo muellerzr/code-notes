{
 "cells": [
  {
   "cell_type": "markdown",
   "metadata": {},
   "source": [
    "# Proof of Concept\n",
    "\n",
    "> End result of what my note-taking schema looks like"
   ]
  },
  {
   "cell_type": "markdown",
   "metadata": {},
   "source": [
    "Write some code you wish to explain:\n",
    "\n",
    "> Note: this first part won't be explored because it's not in a code cell"
   ]
  },
  {
   "cell_type": "markdown",
   "metadata": {},
   "source": [
    "```python\n",
    "def addition(a:int, b:float) -> float:\n",
    "    \"Add a and b\"\n",
    "    return a+b\n",
    "```"
   ]
  },
  {
   "cell_type": "markdown",
   "metadata": {},
   "source": [
    "In a markdown cell following it add in an exporting schema beginning with `#| explain` and following this format to highlight explanations in the code:"
   ]
  },
  {
   "cell_type": "markdown",
   "metadata": {},
   "source": [
    "#| explain {{code to highlight}} {{instance number of code occuring}} | If multline: {{ending code to highlight}} {{instance number of ending code from start of highlighting}}\n",
    "\n",
    "String to add to the explanations"
   ]
  },
  {
   "cell_type": "markdown",
   "metadata": {},
   "source": [
    "This will then be linked to the last known code cell, allowing for multiple explainations to occur. Here is an example with using `log_softmax`, a snippet from Deep Learning from the Foundations v1"
   ]
  },
  {
   "cell_type": "code",
   "execution_count": 8,
   "metadata": {},
   "outputs": [],
   "source": [
    "def log_softmax(x): \n",
    "    log_softmax()\n",
    "    return (x.exp() / \n",
    "            (x.exp().sum(-1, keepdim=True))\n",
    "           ).log()"
   ]
  },
  {
   "cell_type": "markdown",
   "metadata": {},
   "source": [
    "#|explain multline log_softmax 0 \"return abc\"\n",
    "\n",
    "Log softmax is simply taking the exponential of x, dividing it by the sum of all the exponentials, and then taking the log of that result"
   ]
  },
  {
   "cell_type": "markdown",
   "metadata": {},
   "source": [
    "#|explain .log() -1\n",
    "\n",
    "We take the log because negative log likelihood expects a log, not a negative"
   ]
  }
 ],
 "metadata": {
  "kernelspec": {
   "display_name": "Python 3 (ipykernel)",
   "language": "python",
   "name": "python3"
  },
  "language_info": {
   "codemirror_mode": {
    "name": "ipython",
    "version": 3
   },
   "file_extension": ".py",
   "mimetype": "text/x-python",
   "name": "python",
   "nbconvert_exporter": "python",
   "pygments_lexer": "ipython3",
   "version": "3.9.13"
  }
 },
 "nbformat": 4,
 "nbformat_minor": 4
}
